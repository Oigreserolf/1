{
 "cells": [
  {
   "cell_type": "markdown",
   "metadata": {
    "heading_collapsed": true
   },
   "source": [
    "# Declaración Break - Atascado en un ciclo\n",
    "## Problematica: \n",
    "#Diseñar un programa que use un ciclo while y le pida continuamente al usuario que ingrese una palabra a menos que ingrese \"chupacabra\" como la palabra de salida secreta, en cuyo caso el mensaje \"¡Has dejado el ciclo con éxito\". Debe imprimirse en la pantalla y el ciclo debe terminar."
   ]
  },
  {
   "cell_type": "code",
   "execution_count": 1,
   "metadata": {
    "hidden": true
   },
   "outputs": [
    {
     "name": "stdout",
     "output_type": "stream",
     "text": [
      "Ingresa una palabra: pato\n",
      "Atrapado en el bucle\n",
      "Ingresa una palabra: paco\n",
      "Atrapado en el bucle\n",
      "Ingresa una palabra: tomas\n",
      "Atrapado en el bucle\n",
      "Ingresa una palabra: pedro\n",
      "Atrapado en el bucle\n",
      "Ingresa una palabra: chupacabras\n",
      "Atrapado en el bucle\n",
      "Ingresa una palabra: chupacabra\n",
      "¡Has dejado el ciclo con éxito!\n"
     ]
    }
   ],
   "source": [
    "while True:\n",
    "    palabra =input('Ingresa una palabra: ')\n",
    "    if palabra == 'chupacabra':\n",
    "        break\n",
    "    elif palabra != 'chupacabra':\n",
    "        print('Atrapado en el bucle')\n",
    "print('¡Has dejado el ciclo con éxito!')\n",
    "     "
   ]
  }
 ],
 "metadata": {
  "kernelspec": {
   "display_name": "Python 3",
   "language": "python",
   "name": "python3"
  },
  "language_info": {
   "codemirror_mode": {
    "name": "ipython",
    "version": 3
   },
   "file_extension": ".py",
   "mimetype": "text/x-python",
   "name": "python",
   "nbconvert_exporter": "python",
   "pygments_lexer": "ipython3",
   "version": "3.7.9"
  }
 },
 "nbformat": 4,
 "nbformat_minor": 4
}
